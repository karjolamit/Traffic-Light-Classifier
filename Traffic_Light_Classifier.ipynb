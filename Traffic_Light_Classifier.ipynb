import cv2 # computer vision library
import helpers # helper functions

import random
import numpy as np
import matplotlib.pyplot as plt
import matplotlib.image as mpimg # for loading in images

%matplotlib inline

# Image data directories
IMAGE_DIR_TRAINING = "traffic_light_images/training/"
IMAGE_DIR_TEST = "traffic_light_images/test/"

# Using the load_dataset function in helpers.py
# Load training data
IMAGE_LIST = helpers.load_dataset(IMAGE_DIR_TRAINING)

## TODO: Write code to display an image in IMAGE_LIST (try finding a yellow traffic light!)
## TODO: Print out 1. The shape of the image and 2. The image's label

image_number = 757
selected_image = IMAGE_LIST[image_number][0]
image_label = IMAGE_LIST[image_number][1]
plt.imshow(selected_image)
print('selected image shape is = ' + str(selected_image.shape))
print('selected image label is ' + image_label)

# This function should take in an RGB image and return a new, standardized version
def standardize_input(image):
    
    ## TODO: Resize image and pre-process so that all "standard" images are the same size  
    standard_im = np.copy(image)
    standard_im = cv2.resize(image, (32, 32))
    
    return standard_im
    
def one_hot_encode(label):
    one_hot_encoded = [0, 0, 0]
   
    acceptable_colors = tuple(['red', 'yellow', 'green'])
    if (not label in acceptable_colors):
            raise ValueError('label: {} is not an acceptable color'.format(label))
    if label == 'red':
        one_hot_encoded[0] = 1
    if label == 'yellow':
        one_hot_encoded[1] = 1
    if label == 'green':
        one_hot_encoded[2] = 1
    
    return one_hot_encoded
    
 # Importing the tests
import test_functions
tests = test_functions.Tests()

# Test for one_hot_encode function
tests.test_one_hot(one_hot_encode)

def standardize(image_list):
    
    # Empty image data array
    standard_list = []

    # Iterate through all the image-label pairs
    for item in image_list:
        image = item[0]
        label = item[1]

        # Standardize the image
        standardized_im = standardize_input(image)

        # One-hot encode the label
        one_hot_label = one_hot_encode(label)    

        # Append the image, and it's one hot encoded label to the full, processed list of image data 
        standard_list.append((standardized_im, one_hot_label))
        
    return standard_list

# Standardize all training images
STANDARDIZED_LIST = standardize(IMAGE_LIST)

## TODO: Display a standardized image and its label

image_num = 732
original_image = IMAGE_LIST[image_num][0]
standard_image = STANDARDIZED_LIST[image_num][0]
f, (ax1, ax2) = plt.subplots(1, 2)
ax1.set_title('Original Image')
ax1.imshow(original_image)
ax2.set_title('Standardized Image')
ax2.imshow(standard_image)

# Convert and image to HSV colorspace
# Visualize the individual color channels

image_num = 757
test_im = STANDARDIZED_LIST[image_num][0]
test_label = STANDARDIZED_LIST[image_num][1]

# Convert to HSV
hsv = cv2.cvtColor(test_im, cv2.COLOR_RGB2HSV)

# Print image label
print('Label [red, yellow, green]: ' + str(test_label))

# HSV channels
h = hsv[:,:,0]
s = hsv[:,:,1]
v = hsv[:,:,2]

#sum_brightness = np.sum(hsv[:,:,2])
#print("br: "+str(sum_brightness))

# Plot the original image and the three channels
f, (ax1, ax2, ax3, ax4) = plt.subplots(1, 4, figsize=(20,10))
ax1.set_title('Standardized image')
ax1.imshow(test_im)
ax2.set_title('H channel')
ax2.imshow(h, cmap='gray')
ax3.set_title('S channel')
ax3.imshow(s, cmap='gray')
ax4.set_title('V channel')
ax4.imshow(v, cmap='gray')

# RGB channels

r = test_im[:,:,0]
g = test_im[:,:,1]
b = test_im[:,:,2]

f, (ax1, ax2, ax3, ax4) = plt.subplots(1, 4, figsize=(20,10))
ax1.set_title('Standardized image')
ax1.imshow(test_im)
ax2.set_title('R channel')
ax2.imshow(r, cmap='gray')
ax3.set_title('G channel')
ax3.imshow(g, cmap='gray')
ax4.set_title('B channel')
ax4.imshow(b, cmap='gray')

## TODO: Create a brightness feature that takes in an RGB image and outputs a feature vector and/or value
## This feature should use HSV colorspace values

def create_feature(rgb_image):
    
    ## Convert image to HSV color space
    hsv = cv2.cvtColor(rgb_image, cv2.COLOR_RGB2HSV)

    # HSV channels
    h = hsv[:,:,0]
    s = hsv[:,:,1]
    v = hsv[:,:,2]
        
    # mask boundaries based on V channel (using trial error)
    
    lower_hsv = np.array([0,0,0])
    upper_hsv = np.array([255,120,255])
    mask_hsv = cv2.inRange(hsv, lower_hsv, upper_hsv)
    masked_image = np.copy(hsv)
    masked_image[mask_hsv != 0] = [0, 0, 0]
    
    # grayscale image
    grayimage = cv2.cvtColor(rgb_image, cv2.COLOR_RGB2GRAY)

    # image slicing into three parts
    
    part1_v = masked_image[3:12, 5:27, 2]
    part2_v = masked_image[12:21, 5:27, 2]
    part3_v = masked_image[21:30, 5:27, 2]
    
    part1_g = grayimage[3:12, 5:27]
    part2_g = grayimage[12:21, 5:27]
    part3_g = grayimage[21:30, 5:27]
    
    # Average brightness based on V channel & grayscale for the masked image
    
    area = 23 * 9
    avg_brightness1 = (np.sum(part1_g[:,:]) + np.sum(part1_v[:,:])) / area
    avg_brightness2 = (np.sum(part2_g[:,:]) + np.sum(part2_v[:,:])) / area
    avg_brightness3 = (np.sum(part3_g[:,:]) + np.sum(part3_v[:,:])) / area

    ## TODO: Create and return a feature value and/or vector
    feature = []
    feature = [avg_brightness1, avg_brightness2, avg_brightness3]
    
    return feature

# This function should take in RGB image input
# Analyze that image using your feature creation code and output a one-hot encoded label

def estimate_label(rgb_image):
    
    ## TODO: Extract feature(s) from the RGB image and use those features to
    ## classify the image and output a one-hot encoded label
    
    predicted_label = []
    
    feature = create_feature(rgb_image)
    predicted_label = [0,0,0]
    predicted_label[np.argmax(feature)] = 1
    
    return predicted_label
# Using the load_dataset function in helpers.py
# Load test data
TEST_IMAGE_LIST = helpers.load_dataset(IMAGE_DIR_TEST)

# Standardize the test data
STANDARDIZED_TEST_LIST = standardize(TEST_IMAGE_LIST)

# Shuffle the standardized test data
random.shuffle(STANDARDIZED_TEST_LIST)

# Constructs a list of misclassified images given a list of test images and their labels
# This will throw an AssertionError if labels are not standardized (one-hot encoded)

def get_misclassified_images(test_images):
    # Track misclassified images by placing them into a list
    misclassified_images_labels = []

    # Iterate through all the test images
    # Classify each image and compare to the true label
    for image in test_images:

        # Get true data
        im = image[0]
        true_label = image[1]
        assert(len(true_label) == 3), "The true_label is not the expected length (3)."

        # Get predicted label from your classifier
        predicted_label = estimate_label(im)
        assert(len(predicted_label) == 3), "The predicted_label is not the expected length (3)."

        # Compare true and predicted labels 
        if(predicted_label != true_label):
            # If these labels are not equal, the image has been misclassified
            misclassified_images_labels.append((im, predicted_label, true_label))
            
    # Return the list of misclassified [image, predicted_label, true_label] values
    return misclassified_images_labels


# Find all misclassified images in a given test set
MISCLASSIFIED = get_misclassified_images(STANDARDIZED_TEST_LIST)

# Accuracy calculations
total = len(STANDARDIZED_TEST_LIST)
num_correct = total - len(MISCLASSIFIED)
accuracy = (num_correct/total) * 100

print('Accuracy: ' + str(accuracy))
print("Number of misclassified images = " + str(len(MISCLASSIFIED)) +' out of '+ str(total))

# Visualize misclassified example(s)
## TODO: Display an image in the `MISCLASSIFIED` list 
## TODO: Print out its predicted label - to see what the image *was* incorrectly classified as
image_number = 1
selected_image = MISCLASSIFIED[image_number][0]
predicted_label = MISCLASSIFIED[image_number][1]
true_label = MISCLASSIFIED[image_number][2]
print('predicted_label' + str(predicted_label))
print('true_label' + str(true_label))

plt.imshow(selected_image)

# Importing the tests
import test_functions
tests = test_functions.Tests()

if(len(MISCLASSIFIED) > 0):
    # Test code for one_hot_encode function
    tests.test_red_as_green(MISCLASSIFIED)
else:
    print("MISCLASSIFIED may not have been populated with images.")
